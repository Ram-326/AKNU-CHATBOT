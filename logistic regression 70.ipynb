{
 "cells": [
  {
   "cell_type": "code",
   "execution_count": null,
   "id": "2c675395-da34-4e64-bd88-eadcff371219",
   "metadata": {},
   "outputs": [
    {
     "name": "stderr",
     "output_type": "stream",
     "text": [
      "C:\\Users\\varaprasad\\anaconda3\\Lib\\site-packages\\sklearn\\metrics\\_classification.py:1344: UndefinedMetricWarning: Precision and F-score are ill-defined and being set to 0.0 in labels with no predicted samples. Use `zero_division` parameter to control this behavior.\n",
      "  _warn_prf(average, modifier, msg_start, len(result))\n",
      "C:\\Users\\varaprasad\\anaconda3\\Lib\\site-packages\\sklearn\\metrics\\_classification.py:1344: UndefinedMetricWarning: Precision and F-score are ill-defined and being set to 0.0 in labels with no predicted samples. Use `zero_division` parameter to control this behavior.\n",
      "  _warn_prf(average, modifier, msg_start, len(result))\n",
      "C:\\Users\\varaprasad\\anaconda3\\Lib\\site-packages\\sklearn\\metrics\\_classification.py:1344: UndefinedMetricWarning: Precision and F-score are ill-defined and being set to 0.0 in labels with no predicted samples. Use `zero_division` parameter to control this behavior.\n",
      "  _warn_prf(average, modifier, msg_start, len(result))\n"
     ]
    },
    {
     "name": "stdout",
     "output_type": "stream",
     "text": [
      "Accuracy: 0.7037037037037037\n",
      "\n",
      "Classification Report:\n",
      "                 precision    recall  f1-score   support\n",
      "\n",
      "     admission       1.00      1.00      1.00         1\n",
      "       canteen       0.50      1.00      0.67         1\n",
      "college intake       1.00      0.50      0.67         2\n",
      "     committee       1.00      0.50      0.67         2\n",
      "  computer hod       1.00      1.00      1.00         1\n",
      "        course       0.22      1.00      0.36         5\n",
      "       creator       1.00      0.80      0.89         5\n",
      "      document       1.00      1.00      1.00         2\n",
      "         event       1.00      1.00      1.00         3\n",
      "    facilities       1.00      1.00      1.00         1\n",
      "          fees       1.00      0.60      0.75         5\n",
      "        floors       1.00      1.00      1.00         1\n",
      "       goodbye       0.00      0.00      0.00         1\n",
      "      greeting       0.00      0.00      0.00         3\n",
      "           hod       0.00      0.00      0.00         1\n",
      "        hostel       0.60      1.00      0.75         3\n",
      "         hours       0.75      1.00      0.86         3\n",
      "         ithod       0.50      1.00      0.67         1\n",
      "       library       1.00      1.00      1.00         2\n",
      "      location       0.80      1.00      0.89         4\n",
      "          menu       0.00      0.00      0.00         1\n",
      "          name       0.00      0.00      0.00         4\n",
      "        number       1.00      0.71      0.83         7\n",
      "     placement       1.00      0.50      0.67         2\n",
      "     principal       1.00      1.00      1.00         2\n",
      "       ragging       1.00      1.00      1.00         3\n",
      "        random       0.00      0.00      0.00         1\n",
      "     salutaion       1.00      0.33      0.50         3\n",
      "   scholarship       1.00      1.00      1.00         3\n",
      "        sports       1.00      1.00      1.00         1\n",
      "         swear       0.00      0.00      0.00         2\n",
      "          task       0.00      0.00      0.00         1\n",
      "       uniform       1.00      1.00      1.00         2\n",
      "      vacation       1.00      1.00      1.00         2\n",
      "\n",
      "      accuracy                           0.70        81\n",
      "     macro avg       0.69      0.67      0.65        81\n",
      "  weighted avg       0.73      0.70      0.68        81\n",
      "\n",
      "Chatbot: Hello! I can help you with Adikavi nannaya university inquiries. Ask me anything.\n"
     ]
    },
    {
     "name": "stdin",
     "output_type": "stream",
     "text": [
      "You:  hi\n"
     ]
    },
    {
     "name": "stdout",
     "output_type": "stream",
     "text": [
      "Chatbot: Our Adikavi nannaya university offers Information Technology, Master of computer aplications,computer Engineering, Mechanical engineering,Chemical engineering, Civil engineering and extc Engineering,and Pg courses also available.\n"
     ]
    },
    {
     "name": "stdin",
     "output_type": "stream",
     "text": [
      "You:  Hello bro\n"
     ]
    },
    {
     "name": "stdout",
     "output_type": "stream",
     "text": [
      "Chatbot: Hi there, how can I help?\n"
     ]
    },
    {
     "name": "stdin",
     "output_type": "stream",
     "text": [
      "You:  I need you tell me about Your university\n"
     ]
    },
    {
     "name": "stdout",
     "output_type": "stream",
     "text": [
      "Chatbot: Our Adikavi nannaya university offers Information Technology, Master of computer aplications,computer Engineering, Mechanical engineering,Chemical engineering, Civil engineering and extc Engineering,and Pg courses also available.\n"
     ]
    },
    {
     "name": "stdin",
     "output_type": "stream",
     "text": [
      "You:  what are the specialization?\n"
     ]
    },
    {
     "name": "stdout",
     "output_type": "stream",
     "text": [
      "Chatbot: Our Adikavi nannaya university offers Information Technology, Master of computer aplications,computer Engineering, Mechanical engineering,Chemical engineering, Civil engineering and extc Engineering,and Pg courses also available.\n"
     ]
    },
    {
     "name": "stdin",
     "output_type": "stream",
     "text": [
      "You:  what do you know about MSN campus?\n"
     ]
    },
    {
     "name": "stdout",
     "output_type": "stream",
     "text": [
      "Chatbot: Our Adikavi nannaya university offers Information Technology, Master of computer aplications,computer Engineering, Mechanical engineering,Chemical engineering, Civil engineering and extc Engineering,and Pg courses also available.\n"
     ]
    },
    {
     "name": "stdin",
     "output_type": "stream",
     "text": [
      "You:  what do you know about scholarships?\n"
     ]
    },
    {
     "name": "stdout",
     "output_type": "stream",
     "text": [
      "Chatbot: Many government scholarships are supported by our university. For details and updates visit <a target=\"_blank\" href=\"(SCHOLARSHIP DETAILS LINK)\">here</a>\n"
     ]
    }
   ],
   "source": [
    "import json\n",
    "import pandas as pd\n",
    "from sklearn.feature_extraction.text import TfidfVectorizer\n",
    "from sklearn.model_selection import train_test_split\n",
    "from sklearn.linear_model import LogisticRegression\n",
    "from sklearn.metrics import accuracy_score, classification_report\n",
    "import random\n",
    "\n",
    "# Load the JSON dataset\n",
    "file_path = 'intents.json'\n",
    "with open(file_path, 'r') as file:\n",
    "    data = json.load(file)\n",
    "\n",
    "# Prepare the dataset\n",
    "intents = data['intents']\n",
    "rows = []\n",
    "\n",
    "for intent in intents:\n",
    "    tag = intent['tag']\n",
    "    responses = intent['responses']\n",
    "    for pattern in intent['patterns']:\n",
    "        rows.append({\"pattern\": pattern, \"tag\": tag, \"responses\": responses})\n",
    "\n",
    "df = pd.DataFrame(rows)\n",
    "\n",
    "# Features (patterns) and labels (tags)\n",
    "X = df['pattern']\n",
    "y = df['tag']\n",
    "\n",
    "# Split the dataset into training and testing\n",
    "X_train, X_test, y_train, y_test = train_test_split(X, y, test_size=0.2, random_state=42)\n",
    "\n",
    "# Vectorize the patterns using TF-IDF\n",
    "vectorizer = TfidfVectorizer(max_features=5000, stop_words='english')\n",
    "X_train_tfidf = vectorizer.fit_transform(X_train)\n",
    "X_test_tfidf = vectorizer.transform(X_test)\n",
    "\n",
    "# Train a Logistic Regression model\n",
    "model = LogisticRegression(max_iter=2000)\n",
    "model.fit(X_train_tfidf, y_train)\n",
    "\n",
    "# Evaluate the model\n",
    "y_pred = model.predict(X_test_tfidf)\n",
    "print(\"Accuracy:\", accuracy_score(y_test, y_pred))\n",
    "print(\"\\nClassification Report:\\n\", classification_report(y_test, y_pred))\n",
    "\n",
    "# Function to generate chatbot responses\n",
    "def chatbot_response(question):\n",
    "    processed_question = vectorizer.transform([question])\n",
    "    predicted_tag = model.predict(processed_question)[0]\n",
    "    \n",
    "    # Retrieve responses for the predicted tag\n",
    "    responses = df[df['tag'] == predicted_tag]['responses'].iloc[0]\n",
    "    return random.choice(responses)\n",
    "\n",
    "# Interactive chatbot\n",
    "def chatbot():\n",
    "    print(\"Chatbot: Hello! I can help you with Adikavi nannaya university inquiries. Ask me anything.\")\n",
    "    while True:\n",
    "        user_input = input(\"You: \")\n",
    "        if user_input.lower() in ['exit', 'quit']:\n",
    "            print(\"Chatbot: Goodbye! Feel free to reach out anytime.\")\n",
    "            break\n",
    "        response = chatbot_response(user_input)\n",
    "        print(f\"Chatbot: {response}\")\n",
    "\n",
    "# Start the chatbot\n",
    "chatbot()\n"
   ]
  },
  {
   "cell_type": "code",
   "execution_count": null,
   "id": "71cb7278-cf00-4cd5-9432-8b3e9b6c4ed8",
   "metadata": {},
   "outputs": [],
   "source": []
  },
  {
   "cell_type": "code",
   "execution_count": null,
   "id": "a96554d9-8498-41f5-92c4-88a0d6b03512",
   "metadata": {},
   "outputs": [],
   "source": []
  },
  {
   "cell_type": "code",
   "execution_count": null,
   "id": "ec31d00d-b3e5-4ac9-a499-f09e32045a51",
   "metadata": {},
   "outputs": [],
   "source": []
  }
 ],
 "metadata": {
  "kernelspec": {
   "display_name": "Python 3 (ipykernel)",
   "language": "python",
   "name": "python3"
  },
  "language_info": {
   "codemirror_mode": {
    "name": "ipython",
    "version": 3
   },
   "file_extension": ".py",
   "mimetype": "text/x-python",
   "name": "python",
   "nbconvert_exporter": "python",
   "pygments_lexer": "ipython3",
   "version": "3.11.7"
  }
 },
 "nbformat": 4,
 "nbformat_minor": 5
}
